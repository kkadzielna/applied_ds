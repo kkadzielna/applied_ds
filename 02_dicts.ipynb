{
 "cells": [
  {
   "cell_type": "markdown",
   "metadata": {},
   "source": [
    "# Define simple printing functions"
   ]
  },
  {
   "cell_type": "code",
   "execution_count": 1,
   "metadata": {},
   "outputs": [],
   "source": [
    "from __future__ import print_function\n",
    "\n",
    "import json \n",
    "\n",
    "def print_dict(dd): \n",
    "    print(json.dumps(dd, indent=2))"
   ]
  },
  {
   "cell_type": "markdown",
   "metadata": {},
   "source": [
    "# Constructing and allocating dictionaries \n",
    "\n",
    "The syntax for dictionaries is that `{}` indicates an empty dictionary"
   ]
  },
  {
   "cell_type": "code",
   "execution_count": 2,
   "metadata": {},
   "outputs": [
    {
     "name": "stdout",
     "output_type": "stream",
     "text": [
      "{}\n",
      "{}\n"
     ]
    }
   ],
   "source": [
    "d1 = dict() \n",
    "d2 = {}\n",
    "\n",
    "print_dict(d1)\n",
    "print_dict(d2)"
   ]
  },
  {
   "cell_type": "markdown",
   "metadata": {},
   "source": [
    "There are multiple ways to construct a dictionary when the key/value pairs are known beforehand. The following two snippets are equivalent. "
   ]
  },
  {
   "cell_type": "code",
   "execution_count": 3,
   "metadata": {},
   "outputs": [
    {
     "name": "stdout",
     "output_type": "stream",
     "text": [
      "{\n",
      "  \"one\": 1,\n",
      "  \"two\": 2\n",
      "}\n"
     ]
    }
   ],
   "source": [
    "d3 = {\n",
    "    'one': 1, \n",
    "    'two': 2\n",
    "}\n",
    "\n",
    "print_dict(d3)"
   ]
  },
  {
   "cell_type": "code",
   "execution_count": 4,
   "metadata": {},
   "outputs": [
    {
     "name": "stdout",
     "output_type": "stream",
     "text": [
      "{\n",
      "  \"one\": 1,\n",
      "  \"two\": 2\n",
      "}\n"
     ]
    }
   ],
   "source": [
    "d4 = dict(one=1, two=2)\n",
    "\n",
    "print_dict(d4)"
   ]
  },
  {
   "cell_type": "markdown",
   "metadata": {},
   "source": [
    "Often an ordered list of keys and values are available as lists, and \n",
    "it is desirable to create a dictionary from these lists. There are a \n",
    "number of ways to do this, including: "
   ]
  },
  {
   "cell_type": "code",
   "execution_count": 5,
   "metadata": {},
   "outputs": [
    {
     "name": "stdout",
     "output_type": "stream",
     "text": [
      "{\n",
      "  \"one\": 1,\n",
      "  \"two\": 2,\n",
      "  \"three\": 3\n",
      "}\n"
     ]
    }
   ],
   "source": [
    "keys = ['one', 'two', 'three']\n",
    "values = [1, 2, 3]\n",
    "\n",
    "d5 = {key: value for key, value in zip(keys, values)}\n",
    "print_dict(d5)"
   ]
  },
  {
   "cell_type": "markdown",
   "metadata": {},
   "source": [
    "# Adding new data to the dict"
   ]
  },
  {
   "cell_type": "code",
   "execution_count": 6,
   "metadata": {},
   "outputs": [
    {
     "name": "stdout",
     "output_type": "stream",
     "text": [
      "{\n",
      "  \"key_1\": 1,\n",
      "  \"key_2\": false\n",
      "}\n"
     ]
    }
   ],
   "source": [
    "d1['key_1'] = 1\n",
    "d1['key_2'] = False\n",
    "\n",
    "print_dict(d1)"
   ]
  },
  {
   "cell_type": "markdown",
   "metadata": {},
   "source": [
    "Dictionaries are a dynamic data type, and any object can be used as a value type, including `integers`, `float`s, `list`s, and other `dict`s, for example: "
   ]
  },
  {
   "cell_type": "code",
   "execution_count": 7,
   "metadata": {},
   "outputs": [
    {
     "name": "stdout",
     "output_type": "stream",
     "text": [
      "{\n",
      "  \"key_1\": 1,\n",
      "  \"key_2\": false,\n",
      "  \"list_key\": [\n",
      "    1,\n",
      "    2,\n",
      "    3\n",
      "  ]\n",
      "}\n"
     ]
    }
   ],
   "source": [
    "d1['list_key'] = [1, 2, 3]\n",
    "print_dict(d1)"
   ]
  },
  {
   "cell_type": "code",
   "execution_count": 8,
   "metadata": {},
   "outputs": [
    {
     "name": "stdout",
     "output_type": "stream",
     "text": [
      "{\n",
      "  \"key_1\": 1,\n",
      "  \"key_2\": false,\n",
      "  \"list_key\": [\n",
      "    1,\n",
      "    2,\n",
      "    3\n",
      "  ],\n",
      "  \"dict_key\": {\n",
      "    \"one\": 1,\n",
      "    \"two\": 2\n",
      "  }\n",
      "}\n"
     ]
    }
   ],
   "source": [
    "d1['dict_key'] = {'one': 1, 'two': 2}\n",
    "print_dict(d1)"
   ]
  },
  {
   "cell_type": "code",
   "execution_count": 9,
   "metadata": {},
   "outputs": [
    {
     "name": "stdout",
     "output_type": "stream",
     "text": [
      "{\n",
      "  \"key_2\": false,\n",
      "  \"list_key\": [\n",
      "    1,\n",
      "    2,\n",
      "    3\n",
      "  ],\n",
      "  \"dict_key\": {\n",
      "    \"one\": 1,\n",
      "    \"two\": 2\n",
      "  }\n",
      "}\n"
     ]
    }
   ],
   "source": [
    "del d1['key_1']\n",
    "print_dict(d1)"
   ]
  },
  {
   "cell_type": "markdown",
   "metadata": {},
   "source": [
    "# Accessing the data\n",
    "\n",
    "It is always possible to get access to the key/value pairs that are contained in the dictionary, and the following \n",
    "functions help with this: "
   ]
  },
  {
   "cell_type": "code",
   "execution_count": 10,
   "metadata": {},
   "outputs": [
    {
     "name": "stdout",
     "output_type": "stream",
     "text": [
      "dict_keys(['key_2', 'list_key', 'dict_key'])\n"
     ]
    }
   ],
   "source": [
    "print(d1.keys())"
   ]
  },
  {
   "cell_type": "code",
   "execution_count": 11,
   "metadata": {},
   "outputs": [
    {
     "name": "stdout",
     "output_type": "stream",
     "text": [
      "key_2\n",
      "list_key\n",
      "dict_key\n"
     ]
    }
   ],
   "source": [
    "for item in d1:\n",
    "    print(item)"
   ]
  },
  {
   "cell_type": "code",
   "execution_count": 12,
   "metadata": {},
   "outputs": [
    {
     "data": {
      "text/plain": [
       "1"
      ]
     },
     "execution_count": 12,
     "metadata": {},
     "output_type": "execute_result"
    }
   ],
   "source": [
    "d1['dict_key']['one']"
   ]
  },
  {
   "cell_type": "markdown",
   "metadata": {},
   "source": [
    "# Iterating over key/values \n",
    "The following two cells are nearly equivalent. \n",
    "In order to understand how they differ, it will be helpful to confer with Python documentation on iterators and generators\n",
    "http://anandology.com/python-practice-book/iterators.html"
   ]
  },
  {
   "cell_type": "code",
   "execution_count": 13,
   "metadata": {},
   "outputs": [
    {
     "name": "stdout",
     "output_type": "stream",
     "text": [
      "key_2 False\n",
      "list_key [1, 2, 3]\n",
      "dict_key {'one': 1, 'two': 2}\n"
     ]
    }
   ],
   "source": [
    "for key, value in d1.items(): \n",
    "    print(key, value)"
   ]
  },
  {
   "cell_type": "code",
   "execution_count": 14,
   "metadata": {},
   "outputs": [
    {
     "ename": "AttributeError",
     "evalue": "'dict' object has no attribute 'iteritems'",
     "output_type": "error",
     "traceback": [
      "\u001b[0;31m---------------------------------------------------------------------------\u001b[0m",
      "\u001b[0;31mAttributeError\u001b[0m                            Traceback (most recent call last)",
      "\u001b[0;32m<ipython-input-14-0ed84a7a47a2>\u001b[0m in \u001b[0;36m<module>\u001b[0;34m\u001b[0m\n\u001b[0;32m----> 1\u001b[0;31m \u001b[0;32mfor\u001b[0m \u001b[0mkey\u001b[0m\u001b[0;34m,\u001b[0m \u001b[0mvalue\u001b[0m \u001b[0;32min\u001b[0m \u001b[0md1\u001b[0m\u001b[0;34m.\u001b[0m\u001b[0miteritems\u001b[0m\u001b[0;34m(\u001b[0m\u001b[0;34m)\u001b[0m\u001b[0;34m:\u001b[0m  \u001b[0;31m# Only in Python2 (.items() returns an iterator in Python3)\u001b[0m\u001b[0;34m\u001b[0m\u001b[0;34m\u001b[0m\u001b[0m\n\u001b[0m\u001b[1;32m      2\u001b[0m     \u001b[0mprint\u001b[0m\u001b[0;34m(\u001b[0m\u001b[0mkey\u001b[0m\u001b[0;34m,\u001b[0m \u001b[0mvalue\u001b[0m\u001b[0;34m)\u001b[0m\u001b[0;34m\u001b[0m\u001b[0;34m\u001b[0m\u001b[0m\n",
      "\u001b[0;31mAttributeError\u001b[0m: 'dict' object has no attribute 'iteritems'"
     ]
    }
   ],
   "source": [
    "for key, value in d1.iteritems():  # Only in Python2 (.items() returns an iterator in Python3)\n",
    "    print(key, value)"
   ]
  },
  {
   "cell_type": "code",
   "execution_count": 15,
   "metadata": {},
   "outputs": [
    {
     "name": "stdout",
     "output_type": "stream",
     "text": [
      "dict_keys(['key_2', 'list_key', 'dict_key'])\n",
      "dict_values([False, [1, 2, 3], {'one': 1, 'two': 2}])\n"
     ]
    }
   ],
   "source": [
    "print(d1.keys())\n",
    "print(d1.values())"
   ]
  },
  {
   "cell_type": "markdown",
   "metadata": {},
   "source": [
    "# Filtering and mapping dictionaries "
   ]
  },
  {
   "cell_type": "code",
   "execution_count": 16,
   "metadata": {},
   "outputs": [
    {
     "name": "stdout",
     "output_type": "stream",
     "text": [
      "All dictionary elements:\n",
      "[('dict_key', {'one': 1, 'two': 2})]\n"
     ]
    }
   ],
   "source": [
    "def dict_only(key_value): \n",
    "    return type(key_value[1]) is dict\n",
    "\n",
    "print('All dictionary elements:')\n",
    "print(list(filter(dict_only, d1.items())))"
   ]
  },
  {
   "cell_type": "code",
   "execution_count": 17,
   "metadata": {},
   "outputs": [
    {
     "name": "stdout",
     "output_type": "stream",
     "text": [
      "Same as above, but with inline function (lambda):\n",
      "<filter object at 0x7fef5870e070>\n"
     ]
    }
   ],
   "source": [
    "print('Same as above, but with inline function (lambda):')\n",
    "print(filter(lambda key_value: type(key_value[1]) is dict, d1.items()))"
   ]
  }
 ],
 "metadata": {
  "kernelspec": {
   "display_name": "Python 3",
   "language": "python",
   "name": "python3"
  },
  "language_info": {
   "codemirror_mode": {
    "name": "ipython",
    "version": 3
   },
   "file_extension": ".py",
   "mimetype": "text/x-python",
   "name": "python",
   "nbconvert_exporter": "python",
   "pygments_lexer": "ipython3",
   "version": "3.8.5"
  }
 },
 "nbformat": 4,
 "nbformat_minor": 4
}
